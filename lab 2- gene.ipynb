{
 "cells": [
  {
   "cell_type": "code",
   "execution_count": 8,
   "id": "87c7afa6",
   "metadata": {},
   "outputs": [
    {
     "name": "stdout",
     "output_type": "stream",
     "text": [
      "-AGGCTATCACCTGACCTC-CAGGC-CGA--TG-CC--C\n",
      "TA-GCTATCA-C-GA-C-CGC-GG-TCGATTTGCCCGAC\n"
     ]
    }
   ],
   "source": [
    "# prompt: Write a program to align the given sequence of input text A and B\n",
    "# Input:\n",
    "# Text A: AGGCTATCACCTGACCTCCAGGCCGATGCCC\n",
    "# Text B: TAGCTATCACGACCGCGGTCGATTTGCCCGAC\n",
    "# Output:\n",
    "# -AGGCTATCACCTGACCTCCAGGCCGA--TGCCC---\n",
    "# TAG-CTATCAC--GACCGC--GGTCGATTTGCCCGAC\n",
    "\n",
    "def align_sequences(A, B):\n",
    "  \"\"\"\n",
    "  Aligns two sequences using a simple dynamic programming approach.\n",
    "  \n",
    "  Args:\n",
    "    A: The first sequence.\n",
    "    B: The second sequence.\n",
    "  \n",
    "  Returns:\n",
    "    A tuple containing the aligned sequences.\n",
    "  \"\"\"\n",
    "  \n",
    "  # Initialize the alignment matrix.\n",
    "  m = len(A)\n",
    "  n = len(B)\n",
    "  matrix = [[0] * (n + 1) for _ in range(m + 1)]\n",
    "  \n",
    "  # Fill the alignment matrix.\n",
    "  for i in range(1, m + 1):\n",
    "    for j in range(1, n + 1):\n",
    "      if A[i - 1] == B[j - 1]:\n",
    "        matrix[i][j] = matrix[i - 1][j - 1] + 1\n",
    "      else:\n",
    "        matrix[i][j] = max(matrix[i - 1][j], matrix[i][j - 1])\n",
    "  \n",
    "  # Traceback to find the optimal alignment.\n",
    "  aligned_A = []\n",
    "  aligned_B = []\n",
    "  i = m\n",
    "  j = n\n",
    "  while i > 0 and j > 0:\n",
    "    if A[i - 1] == B[j - 1]:\n",
    "      aligned_A.append(A[i - 1])\n",
    "      aligned_B.append(B[j - 1])\n",
    "      i -= 1\n",
    "      j -= 1\n",
    "    elif matrix[i - 1][j] > matrix[i][j - 1]:\n",
    "      aligned_A.append(A[i - 1])\n",
    "      aligned_B.append('-')\n",
    "      i -= 1\n",
    "    else:\n",
    "      aligned_A.append('-')\n",
    "      aligned_B.append(B[j - 1])\n",
    "      j -= 1\n",
    "  \n",
    "  # Add any remaining characters to the alignment.\n",
    "  while i > 0:\n",
    "    aligned_A.append(A[i - 1])\n",
    "    aligned_B.append('-')\n",
    "    i -= 1\n",
    "  while j > 0:\n",
    "    aligned_A.append('-')\n",
    "    aligned_B.append(B[j - 1])\n",
    "    j -= 1\n",
    "  \n",
    "  # Reverse the aligned sequences and return them.\n",
    "  return ''.join(reversed(aligned_A)), ''.join(reversed(aligned_B))\n",
    "\n",
    "# Example usage.\n",
    "A = \"AGGCTATCACCTGACCTCCAGGCCGATGCCC\"\n",
    "B = \"TAGCTATCACGACCGCGGTCGATTTGCCCGAC\"\n",
    "aligned_A, aligned_B = align_sequences(A, B)\n",
    "print(aligned_A)\n",
    "print(aligned_B)\n"
   ]
  },
  {
   "cell_type": "code",
   "execution_count": null,
   "id": "20bb0ac3",
   "metadata": {},
   "outputs": [],
   "source": []
  }
 ],
 "metadata": {
  "kernelspec": {
   "display_name": "Python 3 (ipykernel)",
   "language": "python",
   "name": "python3"
  },
  "language_info": {
   "codemirror_mode": {
    "name": "ipython",
    "version": 3
   },
   "file_extension": ".py",
   "mimetype": "text/x-python",
   "name": "python",
   "nbconvert_exporter": "python",
   "pygments_lexer": "ipython3",
   "version": "3.11.4"
  }
 },
 "nbformat": 4,
 "nbformat_minor": 5
}
