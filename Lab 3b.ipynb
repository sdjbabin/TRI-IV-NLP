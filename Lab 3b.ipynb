{
 "cells": [
  {
   "cell_type": "markdown",
   "id": "a6ac66e7",
   "metadata": {},
   "source": [
    "<h1 align=\"center\" style=\"color:brown;font-size:300%\">Lab 3c : POS Tagging and NER</h1>\n"
   ]
  },
  {
   "cell_type": "markdown",
   "id": "71654e19",
   "metadata": {},
   "source": [
    "<div class=\"alert alert-block alert-info\" >\n",
    "<b style=\"font-size:200%\">Question 1: Estimating N-gram probability</b><br>\n",
    " a) Generating a lookup table for all the words in a  given text for unigram probability \n",
    "</div>"
   ]
  },
  {
   "cell_type": "markdown",
   "id": "9a107ac3",
   "metadata": {},
   "source": [
    "### Reading the file"
   ]
  },
  {
   "cell_type": "code",
   "execution_count": 171,
   "id": "575f19e8",
   "metadata": {},
   "outputs": [],
   "source": [
    "def load_words():\n",
    "    with open('lab 3c.txt', 'r') as file:\n",
    "        sentence=file.read()\n",
    "#         words = file.read().split()\n",
    "        \n",
    "    return sentence"
   ]
  },
  {
   "cell_type": "code",
   "execution_count": 172,
   "id": "3539c0ea",
   "metadata": {},
   "outputs": [],
   "source": [
    "words=[]\n",
    "sentence=load_words()\n",
    "words=sentence.split()"
   ]
  },
  {
   "cell_type": "code",
   "execution_count": 173,
   "id": "37141e6b",
   "metadata": {},
   "outputs": [
    {
     "data": {
      "text/plain": [
       "['Bill',\n",
       " 'will',\n",
       " 'back',\n",
       " 'the',\n",
       " 'bill.',\n",
       " 'Will',\n",
       " 'does',\n",
       " 'not',\n",
       " 'like',\n",
       " 'Bill.',\n",
       " 'Sam',\n",
       " 'is',\n",
       " 'going',\n",
       " 'to',\n",
       " 'meet',\n",
       " 'Will.']"
      ]
     },
     "execution_count": 173,
     "metadata": {},
     "output_type": "execute_result"
    }
   ],
   "source": [
    "words"
   ]
  },
  {
   "cell_type": "code",
   "execution_count": 174,
   "id": "bce24213",
   "metadata": {},
   "outputs": [
    {
     "data": {
      "text/plain": [
       "'Bill will back the bill. Will does not like Bill. Sam is going to meet Will.  '"
      ]
     },
     "execution_count": 174,
     "metadata": {},
     "output_type": "execute_result"
    }
   ],
   "source": [
    "sentence"
   ]
  },
  {
   "cell_type": "code",
   "execution_count": 113,
   "id": "45d25c64",
   "metadata": {},
   "outputs": [],
   "source": [
    "from collections import Counter\n",
    "import string"
   ]
  },
  {
   "cell_type": "markdown",
   "id": "586e1913",
   "metadata": {},
   "source": [
    "### Preprocessing adding < s > (start and end of sentence)"
   ]
  },
  {
   "cell_type": "code",
   "execution_count": 114,
   "id": "ea66ef21",
   "metadata": {},
   "outputs": [
    {
     "name": "stdout",
     "output_type": "stream",
     "text": [
      "Preprocessed Data corpus = \n",
      " eos bill will back the bill eos will does not like bill eos sam is going to meet will eos  \n"
     ]
    }
   ],
   "source": [
    "def preprocess(d):\n",
    "    d=d.lower()\n",
    "    d=\"eos \"+ d\n",
    "    d=d.replace(\".\",\" eos\")\n",
    "    d=d.replace(\"?\",\" eos\")\n",
    "    \n",
    "    return d\n",
    "d=preprocess(sentence)\n",
    "print(\"Preprocessed Data corpus = \\n\",d)"
   ]
  },
  {
   "cell_type": "markdown",
   "id": "827fe681",
   "metadata": {},
   "source": [
    "### Getting the tokens"
   ]
  },
  {
   "cell_type": "code",
   "execution_count": 116,
   "id": "a634f94c",
   "metadata": {},
   "outputs": [],
   "source": [
    "from nltk import word_tokenize\n",
    "def generate_tokens(d):\n",
    "    tokens = word_tokenize(d)\n",
    "    return tokens"
   ]
  },
  {
   "cell_type": "markdown",
   "id": "6475f38b",
   "metadata": {},
   "source": [
    "### Distinct tokens"
   ]
  },
  {
   "cell_type": "code",
   "execution_count": 117,
   "id": "7dc91cd2",
   "metadata": {},
   "outputs": [
    {
     "name": "stdout",
     "output_type": "stream",
     "text": [
      "Tokens in the corpus = \n",
      " ['not', 'will', 'does', 'like', 'to', 'eos', 'is', 'going', 'sam', 'bill', 'the', 'meet', 'back']\n"
     ]
    }
   ],
   "source": [
    "tokens=generate_tokens(d)\n",
    "distinct_tokens = list(set(sorted(tokens)))\n",
    "print(\"Tokens in the corpus = \\n\",distinct_tokens)"
   ]
  },
  {
   "cell_type": "markdown",
   "id": "2a556a47",
   "metadata": {},
   "source": [
    "### Calculating the frequency of each token"
   ]
  },
  {
   "cell_type": "code",
   "execution_count": 118,
   "id": "335a0586",
   "metadata": {},
   "outputs": [
    {
     "name": "stdout",
     "output_type": "stream",
     "text": [
      "Frequency of each tokens = \n",
      "eos \t: 4\n",
      "bill \t: 3\n",
      "will \t: 3\n",
      "back \t: 1\n",
      "the \t: 1\n",
      "does \t: 1\n",
      "not \t: 1\n",
      "like \t: 1\n",
      "sam \t: 1\n",
      "is \t: 1\n",
      "going \t: 1\n",
      "to \t: 1\n",
      "meet \t: 1\n"
     ]
    }
   ],
   "source": [
    "def generate_tokens_freq(tokens):\n",
    "    dct={}\n",
    "    for i in tokens:\n",
    "        dct[i]=0\n",
    "    for i in tokens:\n",
    "        dct[i]+=1\n",
    "    return dct\n",
    "dct=generate_tokens_freq(tokens)\n",
    "print(\"Frequency of each tokens = \")\n",
    "for i in dct.items():\n",
    "    print(i[0],\"\\t:\" , i[1])"
   ]
  },
  {
   "cell_type": "markdown",
   "id": "ca977dd1",
   "metadata": {},
   "source": [
    "### Total frequency"
   ]
  },
  {
   "cell_type": "code",
   "execution_count": 119,
   "id": "5a10c3ab",
   "metadata": {},
   "outputs": [],
   "source": [
    "total=sum(list(dct.values()))"
   ]
  },
  {
   "cell_type": "markdown",
   "id": "57293650",
   "metadata": {},
   "source": [
    "### Generating unigram probability"
   ]
  },
  {
   "cell_type": "code",
   "execution_count": 120,
   "id": "c490503a",
   "metadata": {},
   "outputs": [],
   "source": [
    "def generate_uni(dct):\n",
    "    probs=[]\n",
    "    dct2={}\n",
    "    for i,j in dct.items():\n",
    "        prob=j/total\n",
    "        probs.append(prob)\n",
    "        dct2[i]=prob\n",
    "    return dct2\n"
   ]
  },
  {
   "cell_type": "markdown",
   "id": "4699db2b",
   "metadata": {},
   "source": [
    "### Final output"
   ]
  },
  {
   "cell_type": "code",
   "execution_count": 121,
   "id": "a4dc3872",
   "metadata": {},
   "outputs": [
    {
     "name": "stdout",
     "output_type": "stream",
     "text": [
      "lookup dictionry for the unigram probability is :\n",
      "\n",
      " {'eos': 0.2, 'bill': 0.15, 'will': 0.15, 'back': 0.05, 'the': 0.05, 'does': 0.05, 'not': 0.05, 'like': 0.05, 'sam': 0.05, 'is': 0.05, 'going': 0.05, 'to': 0.05, 'meet': 0.05}\n"
     ]
    }
   ],
   "source": [
    "unigram=generate_uni(dct)\n",
    "print(\"lookup dictionry for the unigram probability is :\\n\\n\", unigram)"
   ]
  },
  {
   "cell_type": "markdown",
   "id": "da117f69",
   "metadata": {},
   "source": [
    "<div class=\"alert alert-block alert-info\" >\n",
    "<b style=\"font-size:200%\">Question 1: Estimating N-gram probability</b><br>\n",
    " b) Using a bigram language model, calculate the probability of<br>\n",
    "i) P(Sam/am) <br>\n",
    "ii) P(green/like)<br>\n",
    "\n",
    "    \n",
    "</div>"
   ]
  },
  {
   "cell_type": "markdown",
   "id": "9e9378a9",
   "metadata": {},
   "source": [
    "### First let us generate n grams as a general function"
   ]
  },
  {
   "cell_type": "code",
   "execution_count": 122,
   "id": "de5f4b23",
   "metadata": {},
   "outputs": [
    {
     "name": "stdout",
     "output_type": "stream",
     "text": [
      "N-grams generated (Here n is 2) = \n",
      "['eos', 'bill']\n",
      "['bill', 'will']\n",
      "['will', 'back']\n",
      "['back', 'the']\n",
      "['the', 'bill']\n",
      "['bill', 'eos']\n",
      "['eos', 'will']\n",
      "['will', 'does']\n",
      "['does', 'not']\n",
      "['not', 'like']\n",
      "['like', 'bill']\n",
      "['bill', 'eos']\n",
      "['eos', 'sam']\n",
      "['sam', 'is']\n",
      "['is', 'going']\n",
      "['going', 'to']\n",
      "['to', 'meet']\n",
      "['meet', 'will']\n",
      "['will', 'eos']\n"
     ]
    }
   ],
   "source": [
    "def generate_ngrams(tokens,k):\n",
    "    l=[]\n",
    "    i=0\n",
    "    while(i<len(tokens)):\n",
    "        l.append(tokens[i:i+k])\n",
    "        i=i+1\n",
    "    l=l[:-1]\n",
    "    return l\n",
    "bigram = generate_ngrams(tokens,2)\n",
    "print(\"N-grams generated (Here n is 2) = \")\n",
    "for i in bigram:\n",
    "    print(i)"
   ]
  },
  {
   "cell_type": "markdown",
   "id": "6d627fb3",
   "metadata": {},
   "source": [
    "### Bigram frequency"
   ]
  },
  {
   "cell_type": "code",
   "execution_count": 123,
   "id": "4b1dba69",
   "metadata": {},
   "outputs": [
    {
     "name": "stdout",
     "output_type": "stream",
     "text": [
      "Frequency of n-grams = \n",
      "eos bill : 1\n",
      "bill will : 1\n",
      "will back : 1\n",
      "back the : 1\n",
      "the bill : 1\n",
      "bill eos : 2\n",
      "eos will : 1\n",
      "will does : 1\n",
      "does not : 1\n",
      "not like : 1\n",
      "like bill : 1\n",
      "eos sam : 1\n",
      "sam is : 1\n",
      "is going : 1\n",
      "going to : 1\n",
      "to meet : 1\n",
      "meet will : 1\n",
      "will eos : 1\n"
     ]
    }
   ],
   "source": [
    "def generate_ngram_freq(bigram):\n",
    "    dct1={}\n",
    "    for i in bigram:\n",
    "        st=\" \".join(i)\n",
    "        dct1[st]=0\n",
    "    for i in bigram:\n",
    "        st=\" \".join(i)\n",
    "        dct1[st]+=1\n",
    "    return dct1\n",
    "dct1=generate_ngram_freq(bigram)\n",
    "print(\"Frequency of n-grams = \")\n",
    "for i in dct1.items():\n",
    "    print(i[0], \":\", i[1])"
   ]
  },
  {
   "cell_type": "markdown",
   "id": "56ec0193",
   "metadata": {},
   "source": [
    "### Generating the bigram probability estimation lookup table"
   ]
  },
  {
   "cell_type": "code",
   "execution_count": 124,
   "id": "ffba860a",
   "metadata": {},
   "outputs": [],
   "source": [
    "def find1(s,dct1):\n",
    "    try:\n",
    "        return dct1[s]\n",
    "    except:\n",
    "        return 0\n",
    "def print_probability_table(distinct_tokens,dct,dct1):\n",
    "    n=len(distinct_tokens)\n",
    "    l=[[]*n for i in range(n)]\n",
    "    for i in range(n):\n",
    "        denominator = dct[distinct_tokens[i]]\n",
    "        for j in range(n):\n",
    "            numerator = find1(distinct_tokens[i]+\" \"+distinct_tokens[j],dct1)\n",
    "            l[i].append(float(\"{:.3f}\".format(numerator/denominator)))\n",
    "    return l"
   ]
  },
  {
   "cell_type": "markdown",
   "id": "0f97015b",
   "metadata": {},
   "source": [
    "### Dispaly the final table"
   ]
  },
  {
   "cell_type": "code",
   "execution_count": 125,
   "id": "9139759d",
   "metadata": {},
   "outputs": [
    {
     "name": "stdout",
     "output_type": "stream",
     "text": [
      "Probability table = \n",
      "\n",
      "\tnot\twill\tdoes\tlike\tto\teos\tis\tgoing\tsam\tbill\tthe\tmeet\tback\t\n",
      "\n",
      "not\t0.0\t0.0\t0.0\t1.0\t0.0\t0.0\t0.0\t0.0\t0.0\t0.0\t0.0\t0.0\t0.0\t\n",
      "\n",
      "will\t0.0\t0.0\t0.333\t0.0\t0.0\t0.333\t0.0\t0.0\t0.0\t0.0\t0.0\t0.0\t0.333\t\n",
      "\n",
      "does\t1.0\t0.0\t0.0\t0.0\t0.0\t0.0\t0.0\t0.0\t0.0\t0.0\t0.0\t0.0\t0.0\t\n",
      "\n",
      "like\t0.0\t0.0\t0.0\t0.0\t0.0\t0.0\t0.0\t0.0\t0.0\t1.0\t0.0\t0.0\t0.0\t\n",
      "\n",
      "to\t0.0\t0.0\t0.0\t0.0\t0.0\t0.0\t0.0\t0.0\t0.0\t0.0\t0.0\t1.0\t0.0\t\n",
      "\n",
      "eos\t0.0\t0.25\t0.0\t0.0\t0.0\t0.0\t0.0\t0.0\t0.25\t0.25\t0.0\t0.0\t0.0\t\n",
      "\n",
      "is\t0.0\t0.0\t0.0\t0.0\t0.0\t0.0\t0.0\t1.0\t0.0\t0.0\t0.0\t0.0\t0.0\t\n",
      "\n",
      "going\t0.0\t0.0\t0.0\t0.0\t1.0\t0.0\t0.0\t0.0\t0.0\t0.0\t0.0\t0.0\t0.0\t\n",
      "\n",
      "sam\t0.0\t0.0\t0.0\t0.0\t0.0\t0.0\t1.0\t0.0\t0.0\t0.0\t0.0\t0.0\t0.0\t\n",
      "\n",
      "bill\t0.0\t0.333\t0.0\t0.0\t0.0\t0.667\t0.0\t0.0\t0.0\t0.0\t0.0\t0.0\t0.0\t\n",
      "\n",
      "the\t0.0\t0.0\t0.0\t0.0\t0.0\t0.0\t0.0\t0.0\t0.0\t1.0\t0.0\t0.0\t0.0\t\n",
      "\n",
      "meet\t0.0\t1.0\t0.0\t0.0\t0.0\t0.0\t0.0\t0.0\t0.0\t0.0\t0.0\t0.0\t0.0\t\n",
      "\n",
      "back\t0.0\t0.0\t0.0\t0.0\t0.0\t0.0\t0.0\t0.0\t0.0\t0.0\t1.0\t0.0\t0.0\t\n",
      "\n"
     ]
    }
   ],
   "source": [
    "print(\"Probability table = \\n\")\n",
    "probability_table=print_probability_table(distinct_tokens,dct,dct1)\n",
    "n=len(distinct_tokens)\n",
    "print(\"\\t\", end=\"\")\n",
    "for i in range(n):\n",
    "    print(distinct_tokens[i],end=\"\\t\")\n",
    "print(\"\\n\")\n",
    "for i in range(n):\n",
    "    print(distinct_tokens[i],end=\"\\t\")\n",
    "    for j in range(n):\n",
    "        print(probability_table[i][j],end=\"\\t\")\n",
    "    print(\"\\n\")"
   ]
  },
  {
   "cell_type": "code",
   "execution_count": 133,
   "id": "bd145378",
   "metadata": {},
   "outputs": [
    {
     "name": "stderr",
     "output_type": "stream",
     "text": [
      "[nltk_data] Downloading package abc to C:\\Users\\SOHAM\n",
      "[nltk_data]     CHATTERJEE\\AppData\\Roaming\\nltk_data...\n",
      "[nltk_data]   Package abc is already up-to-date!\n"
     ]
    },
    {
     "data": {
      "text/plain": [
       "True"
      ]
     },
     "execution_count": 133,
     "metadata": {},
     "output_type": "execute_result"
    }
   ],
   "source": [
    "import nltk\n",
    "nltk.download('abc')"
   ]
  },
  {
   "cell_type": "code",
   "execution_count": 177,
   "id": "7a595cfb",
   "metadata": {},
   "outputs": [
    {
     "name": "stdout",
     "output_type": "stream",
     "text": [
      "['rural.txt', 'science.txt']\n"
     ]
    }
   ],
   "source": [
    "from nltk.corpus import abc\n",
    "print(abc.fileids())\n"
   ]
  },
  {
   "cell_type": "code",
   "execution_count": 178,
   "id": "858447ab",
   "metadata": {},
   "outputs": [
    {
     "name": "stdout",
     "output_type": "stream",
     "text": [
      "['Cystic', 'fibrosis', 'affects', '30', ',', '000', 'children', 'and', 'young', 'adults', 'in', 'the', 'US', 'alone', 'Inhaling', 'the', 'mists', 'of', 'salt', 'water', 'can', 'reduce', 'the', 'pus', 'and', 'infection', 'that', 'fills', 'the', 'airways', 'of', 'cystic', 'fibrosis', 'sufferers', ',', 'although', 'side', 'effects', 'include', 'a', 'nasty', 'coughing', 'fit', 'and', 'a', 'harsh', 'taste', '.', 'That', \"'\", 's', 'the', 'conclusion', 'of', 'two', 'studies', 'published', 'in', 'this', 'week', \"'\", 's', 'issue', 'of', 'The', 'New', 'England', 'Journal', 'of', 'Medicine', '.', 'They', 'found', 'that', 'inhaling', 'a', 'mist', 'with', 'a', 'salt', 'content', 'of', '7', 'or', '9', '%', 'improved', 'lung', 'function', 'and', ',', 'in', 'some', 'cases', ',', 'produced', 'less', 'absenteeism', 'from', 'school']\n"
     ]
    }
   ],
   "source": [
    "science= abc.words('science.txt')\n",
    "print(science[:100])"
   ]
  },
  {
   "cell_type": "markdown",
   "id": "d334812d",
   "metadata": {},
   "source": [
    "<div class=\"alert alert-block alert-info\" >\n",
    "<b style=\"font-size:200%\">Question 1: Estimating N-gram probability</b><br>\n",
    " b) Train an n-gram language model on a corpus. Compute the perplexity of a test set given by the user.\n",
    "\n",
    "    \n",
    "</div>"
   ]
  },
  {
   "cell_type": "code",
   "execution_count": 179,
   "id": "46a26f12",
   "metadata": {},
   "outputs": [],
   "source": [
    "import nltk\n",
    "from nltk.util import ngrams\n",
    "from collections import defaultdict, Counter\n",
    "import math\n",
    "\n",
    "def train_ngram_model(word_list, n):\n",
    "    ngram_model = defaultdict(Counter)\n",
    "    \n",
    "    # Adding start and end tokens\n",
    "    word_list = ['<s>'] * (n-1) + word_list + ['</s>']\n",
    "    \n",
    "    for i in range(len(word_list) - n + 1):\n",
    "        ngram = tuple(word_list[i:i+n-1])\n",
    "        next_word = word_list[i+n-1]\n",
    "        ngram_model[ngram][next_word] += 1\n",
    "    \n",
    "    # Normalizing counts to probabilities\n",
    "    for ngram in ngram_model:\n",
    "        total_count = float(sum(ngram_model[ngram].values()))\n",
    "        for word in ngram_model[ngram]:\n",
    "            ngram_model[ngram][word] /= total_count\n",
    "    \n",
    "    return ngram_model\n",
    "\n",
    "def calculate_perplexity(word_list, ngram_model, n):\n",
    "    N = 0\n",
    "    log_probability_sum = 0.0\n",
    "    \n",
    "    word_list = ['<s>'] * (n-1) + word_list + ['</s>']\n",
    "    N += len(word_list) - (n-1)\n",
    "    \n",
    "    for i in range(len(word_list) - n + 1):\n",
    "        ngram = tuple(word_list[i:i+n-1])\n",
    "        next_word = word_list[i+n-1]\n",
    "        probability = ngram_model[ngram].get(next_word, 1e-7)  # Here we are Smoothing to avoid zero probabilities\n",
    "        log_probability_sum += math.log(probability)\n",
    "    \n",
    "    perplexity = math.exp(-log_probability_sum / N)\n",
    "    return perplexity\n",
    "\n",
    "# In this case corpus: list of words in the science.txt in the abc corpus\n",
    "corpus = list(science)\n",
    "# corpus=science\n",
    "n = 2"
   ]
  },
  {
   "cell_type": "markdown",
   "id": "0535c9fa",
   "metadata": {},
   "source": [
    "### Training process"
   ]
  },
  {
   "cell_type": "code",
   "execution_count": 181,
   "id": "96df2a0a",
   "metadata": {},
   "outputs": [],
   "source": [
    "ngram_model = train_ngram_model(corpus, n)"
   ]
  },
  {
   "cell_type": "markdown",
   "id": "cfd840d6",
   "metadata": {},
   "source": [
    "### Testing"
   ]
  },
  {
   "cell_type": "markdown",
   "id": "9a0b3a84",
   "metadata": {},
   "source": [
    "<div class=\"alert alert-block alert-success\">\n",
    "<b>But first:</b> Let us understand what perplexity is.\n",
    "</div>"
   ]
  },
  {
   "attachments": {
    "image.png": {
     "image/png": "[encoded data removed]"
    }
   },
   "cell_type": "markdown",
   "id": "f10385f9",
   "metadata": {},
   "source": [
    "Perplexity is an evaluation metric that measures the quality of language models.\n",
    "\n",
    "<b>Intuitively, perplexity means to be surprised. We measure how much the model is surprised by seeing new data. The lower the perplexity, the better the training is.</b>\n",
    "\n",
    "The formula for perplexity is the exponent of mean of log likelihood of all the words in an input sequence.\n",
    "\n",
    "![image.png](attachment:image.png)\n",
    "\n"
   ]
  },
  {
   "cell_type": "code",
   "execution_count": 182,
   "id": "1510e319",
   "metadata": {},
   "outputs": [
    {
     "name": "stdout",
     "output_type": "stream",
     "text": [
      "Perplexity: 215.44346900318848\n"
     ]
    }
   ],
   "source": [
    "# Example test set: list of words\n",
    "test_set = [\"Cystic\", \"fibrosis\"]\n",
    "perplexity = calculate_perplexity(test_set, ngram_model, n)\n",
    "print(f'Perplexity: {perplexity}')"
   ]
  },
  {
   "cell_type": "markdown",
   "id": "210f2d03",
   "metadata": {},
   "source": [
    "<div class=\"alert alert-block alert-danger\">\n",
    "<b>!! The perplexity of the given test corpus with respect to the bigram model trained on the training corpus is approximately 215.44. This means, on average, the model is as confused as if it had to choose uniformly and independently among 215 words each time it makes a prediction. Lower perplexity indicates a better predictive model.</b>\n",
    "</div>"
   ]
  },
  {
   "cell_type": "markdown",
   "id": "d5d0f685",
   "metadata": {},
   "source": [
    "<div class=\"alert alert-block alert-info\" >\n",
    "<b style=\"font-size:200%\">Question 2: POS Tagging</b><br>\n",
    " a) Use the Penn Treebank tagset to tag each word in the following sentences\n",
    "from Damon Runyon’s short stories. You may ignore punctuation. Some of\n",
    "these are quite difficult; do your best.<br>\n",
    "1. It is a nice night.<br>\n",
    "2. This crap game is over a garage in Fifty-second Street. . .<br>\n",
    "3. . . . Nobody ever takes the newspapers she sells . . .<br>\n",
    "4. He is a tall, skinny guy with a long, sad, mean-looking kisser, and a\n",
    "mournful voice.<br>\n",
    "</div>"
   ]
  },
  {
   "cell_type": "code",
   "execution_count": 166,
   "id": "d22df679",
   "metadata": {},
   "outputs": [
    {
     "name": "stderr",
     "output_type": "stream",
     "text": [
      "[nltk_data] Downloading package punkt to C:\\Users\\SOHAM\n",
      "[nltk_data]     CHATTERJEE\\AppData\\Roaming\\nltk_data...\n",
      "[nltk_data]   Package punkt is already up-to-date!\n",
      "[nltk_data] Downloading package averaged_perceptron_tagger to\n",
      "[nltk_data]     C:\\Users\\SOHAM CHATTERJEE\\AppData\\Roaming\\nltk_data...\n",
      "[nltk_data]   Package averaged_perceptron_tagger is already up-to-\n",
      "[nltk_data]       date!\n"
     ]
    },
    {
     "name": "stdout",
     "output_type": "stream",
     "text": [
      "[('It', 'PRP'), ('is', 'VBZ'), ('a', 'DT'), ('nice', 'JJ'), ('night', 'NN'), ('.', '.')]\n",
      "[('This', 'DT'), ('crap', 'NN'), ('game', 'NN'), ('is', 'VBZ'), ('over', 'RP'), ('a', 'DT'), ('garage', 'NN'), ('in', 'IN'), ('Fifty-second', 'NNP'), ('Street', 'NNP'), ('.', '.')]\n",
      "[('.', '.'), ('.', '.'), ('.', '.'), ('Nobody', 'NN'), ('ever', 'RB'), ('takes', 'VBZ'), ('the', 'DT'), ('newspapers', 'NNS'), ('she', 'PRP'), ('sells', 'VBZ'), ('.', '.'), ('.', '.'), ('.', '.')]\n",
      "[('He', 'PRP'), ('is', 'VBZ'), ('a', 'DT'), ('tall', 'JJ'), (',', ','), ('skinny', 'JJ'), ('guy', 'NN'), ('with', 'IN'), ('a', 'DT'), ('long', 'JJ'), (',', ','), ('sad', 'JJ'), (',', ','), ('mean-looking', 'JJ'), ('kisser', 'NN'), (',', ','), ('and', 'CC'), ('a', 'DT'), ('mournful', 'JJ'), ('voice', 'NN'), ('.', '.')]\n"
     ]
    }
   ],
   "source": [
    "import nltk\n",
    "from nltk import word_tokenize, pos_tag\n",
    "\n",
    "nltk.download('punkt')\n",
    "nltk.download('averaged_perceptron_tagger')\n",
    "\n",
    "# List of sentences\n",
    "sentences = [\n",
    "    \"It is a nice night.\",\n",
    "    \"This crap game is over a garage in Fifty-second Street.\",\n",
    "    \". . . Nobody ever takes the newspapers she sells . . .\",\n",
    "    \"He is a tall, skinny guy with a long, sad, mean-looking kisser, and a mournful voice.\"\n",
    "]\n",
    "\n",
    "# Tokenizing and POS tag each sentence\n",
    "for sentence in sentences:\n",
    "    tokens = word_tokenize(sentence)\n",
    "    tagged = pos_tag(tokens)\n",
    "    print(tagged)\n"
   ]
  },
  {
   "cell_type": "markdown",
   "id": "2eb3a1e6",
   "metadata": {},
   "source": [
    "<div class=\"alert alert-block alert-info\" >\n",
    "\n",
    " b) Generate HMM tagger using transition and observational probabilities.\n",
    "\n",
    "</div>"
   ]
  },
  {
   "cell_type": "code",
   "execution_count": 169,
   "id": "ed95890b",
   "metadata": {},
   "outputs": [
    {
     "name": "stderr",
     "output_type": "stream",
     "text": [
      "[nltk_data] Downloading package treebank to C:\\Users\\SOHAM\n",
      "[nltk_data]     CHATTERJEE\\AppData\\Roaming\\nltk_data...\n",
      "[nltk_data]   Unzipping corpora\\treebank.zip.\n"
     ]
    },
    {
     "data": {
      "text/plain": [
       "True"
      ]
     },
     "execution_count": 169,
     "metadata": {},
     "output_type": "execute_result"
    }
   ],
   "source": [
    "nltk.download('treebank')"
   ]
  },
  {
   "cell_type": "code",
   "execution_count": 185,
   "id": "5d41a54c",
   "metadata": {},
   "outputs": [
    {
     "name": "stdout",
     "output_type": "stream",
     "text": [
      "[('Pierre', 'NNP'), ('Vinken', 'NNP'), (',', ','), ('61', 'CD'), ('years', 'NNS'), ('old', 'JJ'), (',', ','), ('will', 'MD'), ('join', 'VB'), ('the', 'DT'), ('board', 'NN'), ('as', 'IN'), ('a', 'DT'), ('nonexecutive', 'JJ'), ('director', 'NN'), ('Nov.', 'NNP'), ('29', 'CD'), ('.', '.')]\n",
      "<HiddenMarkovModelTagger 46 states and 10779 output symbols>\n",
      "\n",
      "Here are the generated HMM tags\n",
      "[('Today', 'NN'), ('is', 'VBZ'), ('a', 'DT'), ('good', 'JJ'), ('day', 'NN'), ('.', '.')]\n",
      "[('Joe', 'NNP'), ('met', 'VBD'), ('Joanne', 'NNP'), ('in', 'IN'), ('Delhi', 'NNP'), ('.', 'NNP')]\n",
      "[('Chicago', 'NNP'), ('is', 'VBZ'), ('the', 'DT'), ('birthplace', 'NNP'), ('of', 'NNP'), ('Ginny', 'NNP')]\n"
     ]
    }
   ],
   "source": [
    "import nltk\n",
    "from nltk.corpus import treebank\n",
    "\n",
    "# Train data - pretagged\n",
    "train_data = treebank.tagged_sents()[:3000]\n",
    "\n",
    "print (train_data[0])\n",
    "\n",
    "# Import HMM module\n",
    "from nltk.tag import hmm\n",
    "\n",
    "# Setup a trainer with default(None) values\n",
    "# And then we train with the data\n",
    "trainer = hmm.HiddenMarkovModelTrainer()\n",
    "tagger = trainer.train_supervised(train_data)\n",
    "\n",
    "print (tagger)\n",
    "# Prints the basic data about the tagger\n",
    "print(\"\\nHere are the generated HMM tags\")\n",
    "print (tagger.tag(\"Today is a good day .\".split()))\n",
    "\n",
    "print (tagger.tag(\"Joe met Joanne in Delhi .\".split()))\n",
    "\n",
    "print (tagger.tag(\"Chicago is the birthplace of Ginny\".split()))\n"
   ]
  },
  {
   "cell_type": "markdown",
   "id": "cd5532ac",
   "metadata": {},
   "source": [
    "### Generating transition and emission probabilities"
   ]
  },
  {
   "cell_type": "code",
   "execution_count": 186,
   "id": "97cb3332",
   "metadata": {},
   "outputs": [
    {
     "name": "stderr",
     "output_type": "stream",
     "text": [
      "[nltk_data] Downloading package treebank to C:\\Users\\SOHAM\n",
      "[nltk_data]     CHATTERJEE\\AppData\\Roaming\\nltk_data...\n",
      "[nltk_data]   Package treebank is already up-to-date!\n",
      "[nltk_data] Downloading package universal_tagset to C:\\Users\\SOHAM\n",
      "[nltk_data]     CHATTERJEE\\AppData\\Roaming\\nltk_data...\n",
      "[nltk_data]   Unzipping taggers\\universal_tagset.zip.\n"
     ]
    },
    {
     "name": "stdout",
     "output_type": "stream",
     "text": [
      "[[('Pierre', 'NOUN'), ('Vinken', 'NOUN'), (',', '.'), ('61', 'NUM'), ('years', 'NOUN'), ('old', 'ADJ'), (',', '.'), ('will', 'VERB'), ('join', 'VERB'), ('the', 'DET'), ('board', 'NOUN'), ('as', 'ADP'), ('a', 'DET'), ('nonexecutive', 'ADJ'), ('director', 'NOUN'), ('Nov.', 'NOUN'), ('29', 'NUM'), ('.', '.')], [('Mr.', 'NOUN'), ('Vinken', 'NOUN'), ('is', 'VERB'), ('chairman', 'NOUN'), ('of', 'ADP'), ('Elsevier', 'NOUN'), ('N.V.', 'NOUN'), (',', '.'), ('the', 'DET'), ('Dutch', 'NOUN'), ('publishing', 'VERB'), ('group', 'NOUN'), ('.', '.')]]\n"
     ]
    }
   ],
   "source": [
    "# Importing libraries\n",
    "import nltk\n",
    "import numpy as np\n",
    "import pandas as pd\n",
    "import random\n",
    "from sklearn.model_selection import train_test_split\n",
    "import pprint, time\n",
    " \n",
    "#download the treebank corpus from nltk\n",
    "nltk.download('treebank')\n",
    " \n",
    "#download the universal tagset from nltk\n",
    "nltk.download('universal_tagset')\n",
    " \n",
    "# reading the Treebank tagged sentences\n",
    "nltk_data = list(nltk.corpus.treebank.tagged_sents(tagset='universal'))\n",
    " \n",
    "#print the first two sentences along with tags\n",
    "print(nltk_data[:2])"
   ]
  },
  {
   "cell_type": "code",
   "execution_count": 187,
   "id": "59ddd365",
   "metadata": {},
   "outputs": [
    {
     "name": "stdout",
     "output_type": "stream",
     "text": [
      "('Pierre', 'NOUN')\n",
      "('Vinken', 'NOUN')\n",
      "(',', '.')\n",
      "('61', 'NUM')\n",
      "('years', 'NOUN')\n",
      "('old', 'ADJ')\n",
      "(',', '.')\n",
      "('will', 'VERB')\n",
      "('join', 'VERB')\n",
      "('the', 'DET')\n",
      "('board', 'NOUN')\n",
      "('as', 'ADP')\n",
      "('a', 'DET')\n",
      "('nonexecutive', 'ADJ')\n",
      "('director', 'NOUN')\n",
      "('Nov.', 'NOUN')\n",
      "('29', 'NUM')\n",
      "('.', '.')\n",
      "('Mr.', 'NOUN')\n",
      "('Vinken', 'NOUN')\n",
      "('is', 'VERB')\n",
      "('chairman', 'NOUN')\n",
      "('of', 'ADP')\n",
      "('Elsevier', 'NOUN')\n",
      "('N.V.', 'NOUN')\n",
      "(',', '.')\n",
      "('the', 'DET')\n",
      "('Dutch', 'NOUN')\n",
      "('publishing', 'VERB')\n",
      "('group', 'NOUN')\n",
      "('.', '.')\n"
     ]
    }
   ],
   "source": [
    "#print each word with its respective tag for first two sentences\n",
    "for sent in nltk_data[:2]:\n",
    "  for tuple in sent:\n",
    "    print(tuple)"
   ]
  },
  {
   "cell_type": "code",
   "execution_count": 189,
   "id": "c8630ec5",
   "metadata": {},
   "outputs": [],
   "source": [
    "\n",
    "# split data into training and validation set in the ratio 80:20\n",
    "train_set,test_set =train_test_split(nltk_data,train_size=0.80,test_size=0.20,random_state = 101)\n"
   ]
  },
  {
   "cell_type": "code",
   "execution_count": 190,
   "id": "5e4a6401",
   "metadata": {},
   "outputs": [
    {
     "name": "stdout",
     "output_type": "stream",
     "text": [
      "80310\n",
      "20366\n"
     ]
    }
   ],
   "source": [
    "# create list of train and test tagged words\n",
    "train_tagged_words = [ tup for sent in train_set for tup in sent ]\n",
    "test_tagged_words = [ tup for sent in test_set for tup in sent ]\n",
    "print(len(train_tagged_words))\n",
    "print(len(test_tagged_words))"
   ]
  },
  {
   "cell_type": "code",
   "execution_count": 192,
   "id": "7df37b94",
   "metadata": {},
   "outputs": [
    {
     "data": {
      "text/plain": [
       "[('Drink', 'NOUN'),\n",
       " ('Carrier', 'NOUN'),\n",
       " ('Competes', 'VERB'),\n",
       " ('With', 'ADP'),\n",
       " ('Cartons', 'NOUN')]"
      ]
     },
     "execution_count": 192,
     "metadata": {},
     "output_type": "execute_result"
    }
   ],
   "source": [
    "# check some of the tagged words.\n",
    "train_tagged_words[:5]"
   ]
  },
  {
   "cell_type": "code",
   "execution_count": 193,
   "id": "81100ca2",
   "metadata": {},
   "outputs": [
    {
     "name": "stdout",
     "output_type": "stream",
     "text": [
      "12\n",
      "{'ADJ', 'DET', 'ADP', 'PRT', 'NUM', 'CONJ', 'PRON', 'ADV', 'VERB', 'NOUN', '.', 'X'}\n"
     ]
    }
   ],
   "source": [
    "#use set datatype to check how many unique tags are present in training data\n",
    "tags = {tag for word,tag in train_tagged_words}\n",
    "print(len(tags))\n",
    "print(tags)\n",
    " \n",
    "# check total words in vocabulary\n",
    "vocab = {word for word,tag in train_tagged_words}"
   ]
  },
  {
   "cell_type": "code",
   "execution_count": 194,
   "id": "98a75e87",
   "metadata": {},
   "outputs": [],
   "source": [
    "# compute Emission Probability\n",
    "def word_given_tag(word, tag, train_bag = train_tagged_words):\n",
    "    tag_list = [pair for pair in train_bag if pair[1]==tag]\n",
    "    count_tag = len(tag_list)#total number of times the passed tag occurred in train_bag\n",
    "    w_given_tag_list = [pair[0] for pair in tag_list if pair[0]==word]\n",
    "#now calculate the total number of times the passed word occurred as the passed tag.\n",
    "    count_w_given_tag = len(w_given_tag_list)\n",
    " \n",
    "     \n",
    "    return (count_w_given_tag, count_tag)"
   ]
  },
  {
   "cell_type": "code",
   "execution_count": 195,
   "id": "ff6ca63e",
   "metadata": {},
   "outputs": [],
   "source": [
    "# compute  Transition Probability\n",
    "def t2_given_t1(t2, t1, train_bag = train_tagged_words):\n",
    "    tags = [pair[1] for pair in train_bag]\n",
    "    count_t1 = len([t for t in tags if t==t1])\n",
    "    count_t2_t1 = 0\n",
    "    for index in range(len(tags)-1):\n",
    "        if tags[index]==t1 and tags[index+1] == t2:\n",
    "            count_t2_t1 += 1\n",
    "    return (count_t2_t1, count_t1)"
   ]
  },
  {
   "cell_type": "code",
   "execution_count": 196,
   "id": "eb26c9e4",
   "metadata": {},
   "outputs": [
    {
     "name": "stdout",
     "output_type": "stream",
     "text": [
      "[[6.33009672e-02 5.24271838e-03 8.05825219e-02 1.14563107e-02\n",
      "  2.17475723e-02 1.68932043e-02 1.94174761e-04 5.24271838e-03\n",
      "  1.14563107e-02 6.96893215e-01 6.60194159e-02 2.09708735e-02]\n",
      " [2.06410810e-01 6.03708485e-03 9.91806854e-03 2.87480245e-04\n",
      "  2.28546783e-02 4.31220367e-04 3.30602261e-03 1.20741697e-02\n",
      "  4.02472317e-02 6.35906279e-01 1.73925534e-02 4.51343954e-02]\n",
      " [1.07061505e-01 3.20931405e-01 1.69577319e-02 1.26550242e-03\n",
      "  6.32751212e-02 1.01240189e-03 6.96026310e-02 1.45532778e-02\n",
      "  8.47886596e-03 3.23588967e-01 3.87243740e-02 3.45482156e-02]\n",
      " [8.29745606e-02 1.01369865e-01 1.95694715e-02 1.17416831e-03\n",
      "  5.67514673e-02 2.34833662e-03 1.76125243e-02 9.39334650e-03\n",
      "  4.01174158e-01 2.50489235e-01 4.50097844e-02 1.21330721e-02]\n",
      " [3.53445187e-02 3.57015361e-03 3.74866128e-02 2.60621198e-02\n",
      "  1.84219927e-01 1.42806144e-02 1.42806140e-03 3.57015361e-03\n",
      "  2.07068902e-02 3.51660132e-01 1.19243130e-01 2.02427700e-01]\n",
      " [1.13611415e-01 1.23490669e-01 5.59824370e-02 4.39077942e-03\n",
      "  4.06147093e-02 5.48847427e-04 6.03732169e-02 5.70801310e-02\n",
      "  1.50384188e-01 3.49066973e-01 3.51262353e-02 9.33040585e-03]\n",
      " [7.06150308e-02 9.56719834e-03 2.23234631e-02 1.41230067e-02\n",
      "  6.83371304e-03 5.01138950e-03 6.83371304e-03 3.69020514e-02\n",
      "  4.84738052e-01 2.12756261e-01 4.19134386e-02 8.83826911e-02]\n",
      " [1.30721495e-01 7.13731572e-02 1.19472459e-01 1.47401085e-02\n",
      "  2.98681147e-02 6.98215654e-03 1.20248254e-02 8.14584941e-02\n",
      "  3.39022487e-01 3.21955010e-02 1.39255241e-01 2.28859577e-02]\n",
      " [6.63904250e-02 1.33609578e-01 9.23572779e-02 3.06629837e-02\n",
      "  2.28360966e-02 5.43278083e-03 3.55432779e-02 8.38858187e-02\n",
      "  1.67955801e-01 1.10589318e-01 3.48066315e-02 2.15930015e-01]\n",
      " [1.25838192e-02 1.31063312e-02 1.76826611e-01 4.39345129e-02\n",
      "  9.14395228e-03 4.24540639e-02 4.65906132e-03 1.68945398e-02\n",
      "  1.49133503e-01 2.62344331e-01 2.40094051e-01 2.88252197e-02]\n",
      " [4.61323895e-02 1.72191828e-01 9.29084867e-02 2.78940029e-03\n",
      "  7.82104954e-02 6.00793920e-02 6.87694475e-02 5.25694676e-02\n",
      "  8.96899477e-02 2.18538776e-01 9.23720598e-02 2.56410260e-02]\n",
      " [1.76821072e-02 5.68902567e-02 1.42225638e-01 1.85085520e-01\n",
      "  3.07514891e-03 1.03786280e-02 5.41995019e-02 2.57543717e-02\n",
      "  2.06419379e-01 6.16951771e-02 1.60868734e-01 7.57255405e-02]]\n"
     ]
    }
   ],
   "source": [
    "# creating t x t transition matrix of tags, t= no of tags\n",
    "# Matrix(i, j) represents P(jth tag after the ith tag)\n",
    " \n",
    "tags_matrix = np.zeros((len(tags), len(tags)), dtype='float32')\n",
    "for i, t1 in enumerate(list(tags)):\n",
    "    for j, t2 in enumerate(list(tags)): \n",
    "        tags_matrix[i, j] = t2_given_t1(t2, t1)[0]/t2_given_t1(t2, t1)[1]\n",
    " \n",
    "print(tags_matrix)"
   ]
  },
  {
   "cell_type": "code",
   "execution_count": 197,
   "id": "b2b47a1b",
   "metadata": {},
   "outputs": [
    {
     "data": {
      "text/html": [
       "<div>\n",
       "<style scoped>\n",
       "    .dataframe tbody tr th:only-of-type {\n",
       "        vertical-align: middle;\n",
       "    }\n",
       "\n",
       "    .dataframe tbody tr th {\n",
       "        vertical-align: top;\n",
       "    }\n",
       "\n",
       "    .dataframe thead th {\n",
       "        text-align: right;\n",
       "    }\n",
       "</style>\n",
       "<table border=\"1\" class=\"dataframe\">\n",
       "  <thead>\n",
       "    <tr style=\"text-align: right;\">\n",
       "      <th></th>\n",
       "      <th>ADJ</th>\n",
       "      <th>DET</th>\n",
       "      <th>ADP</th>\n",
       "      <th>PRT</th>\n",
       "      <th>NUM</th>\n",
       "      <th>CONJ</th>\n",
       "      <th>PRON</th>\n",
       "      <th>ADV</th>\n",
       "      <th>VERB</th>\n",
       "      <th>NOUN</th>\n",
       "      <th>.</th>\n",
       "      <th>X</th>\n",
       "    </tr>\n",
       "  </thead>\n",
       "  <tbody>\n",
       "    <tr>\n",
       "      <th>ADJ</th>\n",
       "      <td>0.063301</td>\n",
       "      <td>0.005243</td>\n",
       "      <td>0.080583</td>\n",
       "      <td>0.011456</td>\n",
       "      <td>0.021748</td>\n",
       "      <td>0.016893</td>\n",
       "      <td>0.000194</td>\n",
       "      <td>0.005243</td>\n",
       "      <td>0.011456</td>\n",
       "      <td>0.696893</td>\n",
       "      <td>0.066019</td>\n",
       "      <td>0.020971</td>\n",
       "    </tr>\n",
       "    <tr>\n",
       "      <th>DET</th>\n",
       "      <td>0.206411</td>\n",
       "      <td>0.006037</td>\n",
       "      <td>0.009918</td>\n",
       "      <td>0.000287</td>\n",
       "      <td>0.022855</td>\n",
       "      <td>0.000431</td>\n",
       "      <td>0.003306</td>\n",
       "      <td>0.012074</td>\n",
       "      <td>0.040247</td>\n",
       "      <td>0.635906</td>\n",
       "      <td>0.017393</td>\n",
       "      <td>0.045134</td>\n",
       "    </tr>\n",
       "    <tr>\n",
       "      <th>ADP</th>\n",
       "      <td>0.107062</td>\n",
       "      <td>0.320931</td>\n",
       "      <td>0.016958</td>\n",
       "      <td>0.001266</td>\n",
       "      <td>0.063275</td>\n",
       "      <td>0.001012</td>\n",
       "      <td>0.069603</td>\n",
       "      <td>0.014553</td>\n",
       "      <td>0.008479</td>\n",
       "      <td>0.323589</td>\n",
       "      <td>0.038724</td>\n",
       "      <td>0.034548</td>\n",
       "    </tr>\n",
       "    <tr>\n",
       "      <th>PRT</th>\n",
       "      <td>0.082975</td>\n",
       "      <td>0.101370</td>\n",
       "      <td>0.019569</td>\n",
       "      <td>0.001174</td>\n",
       "      <td>0.056751</td>\n",
       "      <td>0.002348</td>\n",
       "      <td>0.017613</td>\n",
       "      <td>0.009393</td>\n",
       "      <td>0.401174</td>\n",
       "      <td>0.250489</td>\n",
       "      <td>0.045010</td>\n",
       "      <td>0.012133</td>\n",
       "    </tr>\n",
       "    <tr>\n",
       "      <th>NUM</th>\n",
       "      <td>0.035345</td>\n",
       "      <td>0.003570</td>\n",
       "      <td>0.037487</td>\n",
       "      <td>0.026062</td>\n",
       "      <td>0.184220</td>\n",
       "      <td>0.014281</td>\n",
       "      <td>0.001428</td>\n",
       "      <td>0.003570</td>\n",
       "      <td>0.020707</td>\n",
       "      <td>0.351660</td>\n",
       "      <td>0.119243</td>\n",
       "      <td>0.202428</td>\n",
       "    </tr>\n",
       "    <tr>\n",
       "      <th>CONJ</th>\n",
       "      <td>0.113611</td>\n",
       "      <td>0.123491</td>\n",
       "      <td>0.055982</td>\n",
       "      <td>0.004391</td>\n",
       "      <td>0.040615</td>\n",
       "      <td>0.000549</td>\n",
       "      <td>0.060373</td>\n",
       "      <td>0.057080</td>\n",
       "      <td>0.150384</td>\n",
       "      <td>0.349067</td>\n",
       "      <td>0.035126</td>\n",
       "      <td>0.009330</td>\n",
       "    </tr>\n",
       "    <tr>\n",
       "      <th>PRON</th>\n",
       "      <td>0.070615</td>\n",
       "      <td>0.009567</td>\n",
       "      <td>0.022323</td>\n",
       "      <td>0.014123</td>\n",
       "      <td>0.006834</td>\n",
       "      <td>0.005011</td>\n",
       "      <td>0.006834</td>\n",
       "      <td>0.036902</td>\n",
       "      <td>0.484738</td>\n",
       "      <td>0.212756</td>\n",
       "      <td>0.041913</td>\n",
       "      <td>0.088383</td>\n",
       "    </tr>\n",
       "    <tr>\n",
       "      <th>ADV</th>\n",
       "      <td>0.130721</td>\n",
       "      <td>0.071373</td>\n",
       "      <td>0.119472</td>\n",
       "      <td>0.014740</td>\n",
       "      <td>0.029868</td>\n",
       "      <td>0.006982</td>\n",
       "      <td>0.012025</td>\n",
       "      <td>0.081458</td>\n",
       "      <td>0.339022</td>\n",
       "      <td>0.032196</td>\n",
       "      <td>0.139255</td>\n",
       "      <td>0.022886</td>\n",
       "    </tr>\n",
       "    <tr>\n",
       "      <th>VERB</th>\n",
       "      <td>0.066390</td>\n",
       "      <td>0.133610</td>\n",
       "      <td>0.092357</td>\n",
       "      <td>0.030663</td>\n",
       "      <td>0.022836</td>\n",
       "      <td>0.005433</td>\n",
       "      <td>0.035543</td>\n",
       "      <td>0.083886</td>\n",
       "      <td>0.167956</td>\n",
       "      <td>0.110589</td>\n",
       "      <td>0.034807</td>\n",
       "      <td>0.215930</td>\n",
       "    </tr>\n",
       "    <tr>\n",
       "      <th>NOUN</th>\n",
       "      <td>0.012584</td>\n",
       "      <td>0.013106</td>\n",
       "      <td>0.176827</td>\n",
       "      <td>0.043935</td>\n",
       "      <td>0.009144</td>\n",
       "      <td>0.042454</td>\n",
       "      <td>0.004659</td>\n",
       "      <td>0.016895</td>\n",
       "      <td>0.149134</td>\n",
       "      <td>0.262344</td>\n",
       "      <td>0.240094</td>\n",
       "      <td>0.028825</td>\n",
       "    </tr>\n",
       "    <tr>\n",
       "      <th>.</th>\n",
       "      <td>0.046132</td>\n",
       "      <td>0.172192</td>\n",
       "      <td>0.092908</td>\n",
       "      <td>0.002789</td>\n",
       "      <td>0.078210</td>\n",
       "      <td>0.060079</td>\n",
       "      <td>0.068769</td>\n",
       "      <td>0.052569</td>\n",
       "      <td>0.089690</td>\n",
       "      <td>0.218539</td>\n",
       "      <td>0.092372</td>\n",
       "      <td>0.025641</td>\n",
       "    </tr>\n",
       "    <tr>\n",
       "      <th>X</th>\n",
       "      <td>0.017682</td>\n",
       "      <td>0.056890</td>\n",
       "      <td>0.142226</td>\n",
       "      <td>0.185086</td>\n",
       "      <td>0.003075</td>\n",
       "      <td>0.010379</td>\n",
       "      <td>0.054200</td>\n",
       "      <td>0.025754</td>\n",
       "      <td>0.206419</td>\n",
       "      <td>0.061695</td>\n",
       "      <td>0.160869</td>\n",
       "      <td>0.075726</td>\n",
       "    </tr>\n",
       "  </tbody>\n",
       "</table>\n",
       "</div>"
      ],
      "text/plain": [
       "           ADJ       DET       ADP       PRT       NUM      CONJ      PRON  \\\n",
       "ADJ   0.063301  0.005243  0.080583  0.011456  0.021748  0.016893  0.000194   \n",
       "DET   0.206411  0.006037  0.009918  0.000287  0.022855  0.000431  0.003306   \n",
       "ADP   0.107062  0.320931  0.016958  0.001266  0.063275  0.001012  0.069603   \n",
       "PRT   0.082975  0.101370  0.019569  0.001174  0.056751  0.002348  0.017613   \n",
       "NUM   0.035345  0.003570  0.037487  0.026062  0.184220  0.014281  0.001428   \n",
       "CONJ  0.113611  0.123491  0.055982  0.004391  0.040615  0.000549  0.060373   \n",
       "PRON  0.070615  0.009567  0.022323  0.014123  0.006834  0.005011  0.006834   \n",
       "ADV   0.130721  0.071373  0.119472  0.014740  0.029868  0.006982  0.012025   \n",
       "VERB  0.066390  0.133610  0.092357  0.030663  0.022836  0.005433  0.035543   \n",
       "NOUN  0.012584  0.013106  0.176827  0.043935  0.009144  0.042454  0.004659   \n",
       ".     0.046132  0.172192  0.092908  0.002789  0.078210  0.060079  0.068769   \n",
       "X     0.017682  0.056890  0.142226  0.185086  0.003075  0.010379  0.054200   \n",
       "\n",
       "           ADV      VERB      NOUN         .         X  \n",
       "ADJ   0.005243  0.011456  0.696893  0.066019  0.020971  \n",
       "DET   0.012074  0.040247  0.635906  0.017393  0.045134  \n",
       "ADP   0.014553  0.008479  0.323589  0.038724  0.034548  \n",
       "PRT   0.009393  0.401174  0.250489  0.045010  0.012133  \n",
       "NUM   0.003570  0.020707  0.351660  0.119243  0.202428  \n",
       "CONJ  0.057080  0.150384  0.349067  0.035126  0.009330  \n",
       "PRON  0.036902  0.484738  0.212756  0.041913  0.088383  \n",
       "ADV   0.081458  0.339022  0.032196  0.139255  0.022886  \n",
       "VERB  0.083886  0.167956  0.110589  0.034807  0.215930  \n",
       "NOUN  0.016895  0.149134  0.262344  0.240094  0.028825  \n",
       ".     0.052569  0.089690  0.218539  0.092372  0.025641  \n",
       "X     0.025754  0.206419  0.061695  0.160869  0.075726  "
      ]
     },
     "metadata": {},
     "output_type": "display_data"
    }
   ],
   "source": [
    "# convert the matrix to a df for better readability\n",
    "#the table is same as the transition table shown in section 3 of article\n",
    "tags_df = pd.DataFrame(tags_matrix, columns = list(tags), index=list(tags))\n",
    "display(tags_df)"
   ]
  },
  {
   "cell_type": "markdown",
   "id": "159099e7",
   "metadata": {},
   "source": [
    "<div class=\"alert alert-block alert-info\" >\n",
    "<b style=\"font-size:200%\">Question 3: Named Entity Recognition</b><br>\n",
    " a) Implement NER with NLTK/spaCY/Stanford NER Tagger<br>\n",
    "Input: John   lives in New   York<br>\n",
    "Output: B-PER  O     O  B-LOC I-LOC<br>\n",
    "\n",
    "</div>"
   ]
  },
  {
   "cell_type": "code",
   "execution_count": 199,
   "id": "5f17f9d6",
   "metadata": {},
   "outputs": [
    {
     "name": "stderr",
     "output_type": "stream",
     "text": [
      "C:\\Users\\SOHAM CHATTERJEE\\AppData\\Local\\Temp\\ipykernel_8408\\1247186552.py:4: DeprecationWarning: Importing display from IPython.core.display is deprecated since IPython 7.14, please import from IPython display\n",
      "  from IPython.core.display import display, HTML\n"
     ]
    }
   ],
   "source": [
    "import spacy\n",
    "from spacy import displacy\n",
    "from IPython.display import Image\n",
    "from IPython.core.display import display, HTML"
   ]
  },
  {
   "cell_type": "markdown",
   "id": "c56ad4fb",
   "metadata": {},
   "source": [
    "## NER with spaCy's pretrained models"
   ]
  },
  {
   "cell_type": "code",
   "execution_count": 201,
   "id": "0ac4130f",
   "metadata": {},
   "outputs": [],
   "source": [
    "# Load a pretrained spaCy model\n",
    "nlp = spacy.load('en_core_web_sm')"
   ]
  },
  {
   "attachments": {
    "image.png": {
     "image/png": "[encoded data removed]"
    }
   },
   "cell_type": "markdown",
   "id": "f5accc4a",
   "metadata": {},
   "source": [
    "![image.png](attachment:image.png)"
   ]
  },
  {
   "cell_type": "markdown",
   "id": "704f837a",
   "metadata": {},
   "source": [
    "The pretrained model comes with a default processing pipeline that includes part-of-speech tagging, syntactic parsing, and NER.  The pretrained models are statistical and every “decision” they make is a prediction based on the examples the model has seen during training.  \n",
    "\n",
    "spaCy makes it very easy to create your own pipelines consisting of reusable components – this includes spaCy’s default tagger, parser and entity recognizer, but also your own custom processing functions. "
   ]
  },
  {
   "cell_type": "code",
   "execution_count": 203,
   "id": "5041ade1",
   "metadata": {},
   "outputs": [
    {
     "data": {
      "text/plain": [
       "['tok2vec', 'tagger', 'parser', 'attribute_ruler', 'lemmatizer', 'ner']"
      ]
     },
     "execution_count": 203,
     "metadata": {},
     "output_type": "execute_result"
    }
   ],
   "source": [
    "# View pipeline components\n",
    "nlp.pipe_names"
   ]
  },
  {
   "cell_type": "code",
   "execution_count": 205,
   "id": "f2f9fe1e",
   "metadata": {},
   "outputs": [],
   "source": [
    "text = \"\"\"Last Monday, Sarah Johnson flew from New York City to San Francisco to attend a technology conference hosted by Apple Inc. at the Moscone Center. During her trip, she met with Dr. Alan Wright, a renowned AI researcher from Stanford University. They discussed the latest advancements in machine learning and the upcoming project funded by the National Science Foundation. Sarah also planned to visit the Golden Gate Bridge and Alcatraz Island before returning to her office at Microsoft in Redmond, Washington. She was particularly excited about the new partnership between Google and Tesla, which was announced earlier that week in a press release from Mountain View, California.\n",
    "\"\"\""
   ]
  },
  {
   "cell_type": "code",
   "execution_count": 207,
   "id": "9896aee7",
   "metadata": {},
   "outputs": [],
   "source": [
    "# Run the text through the pretrained model\n",
    "doc = nlp(text)"
   ]
  },
  {
   "cell_type": "code",
   "execution_count": 208,
   "id": "3a1a76a7",
   "metadata": {},
   "outputs": [
    {
     "name": "stdout",
     "output_type": "stream",
     "text": [
      "Last Monday 0 11 DATE\n",
      "Sarah Johnson 13 26 PERSON\n",
      "New York City 37 50 GPE\n",
      "San Francisco 54 67 GPE\n",
      "Apple Inc. 112 122 ORG\n",
      "the Moscone Center 126 144 FAC\n",
      "Alan Wright 180 191 PERSON\n",
      "AI 204 206 ORG\n",
      "Stanford University 223 242 ORG\n",
      "the National Science Foundation 338 369 ORG\n",
      "Sarah 371 376 PERSON\n",
      "the Golden Gate Bridge 399 421 FAC\n",
      "Alcatraz Island 426 441 LOC\n",
      "Microsoft 476 485 ORG\n",
      "Redmond 489 496 GPE\n",
      "Washington 498 508 GPE\n",
      "Google 573 579 ORG\n",
      "Tesla 584 589 ORG\n",
      "earlier that week 611 628 DATE\n",
      "Mountain View 653 666 GPE\n",
      "California 668 678 GPE\n"
     ]
    }
   ],
   "source": [
    "# The NER pipeline component tags entities in the doc with various attributes\n",
    "for ent in doc.ents:\n",
    "    print(ent.text, ent.start_char, ent.end_char, ent.label_)"
   ]
  },
  {
   "cell_type": "code",
   "execution_count": 209,
   "id": "fa5a252a",
   "metadata": {},
   "outputs": [
    {
     "data": {
      "text/html": [
       "<span class=\"tex2jax_ignore\"><div class=\"entities\" style=\"line-height: 2.5; direction: ltr\">\n",
       "<mark class=\"entity\" style=\"background: #bfe1d9; padding: 0.45em 0.6em; margin: 0 0.25em; line-height: 1; border-radius: 0.35em;\">\n",
       "    Last Monday\n",
       "    <span style=\"font-size: 0.8em; font-weight: bold; line-height: 1; border-radius: 0.35em; vertical-align: middle; margin-left: 0.5rem\">DATE</span>\n",
       "</mark>\n",
       ", \n",
       "<mark class=\"entity\" style=\"background: #aa9cfc; padding: 0.45em 0.6em; margin: 0 0.25em; line-height: 1; border-radius: 0.35em;\">\n",
       "    Sarah Johnson\n",
       "    <span style=\"font-size: 0.8em; font-weight: bold; line-height: 1; border-radius: 0.35em; vertical-align: middle; margin-left: 0.5rem\">PERSON</span>\n",
       "</mark>\n",
       " flew from \n",
       "<mark class=\"entity\" style=\"background: #feca74; padding: 0.45em 0.6em; margin: 0 0.25em; line-height: 1; border-radius: 0.35em;\">\n",
       "    New York City\n",
       "    <span style=\"font-size: 0.8em; font-weight: bold; line-height: 1; border-radius: 0.35em; vertical-align: middle; margin-left: 0.5rem\">GPE</span>\n",
       "</mark>\n",
       " to \n",
       "<mark class=\"entity\" style=\"background: #feca74; padding: 0.45em 0.6em; margin: 0 0.25em; line-height: 1; border-radius: 0.35em;\">\n",
       "    San Francisco\n",
       "    <span style=\"font-size: 0.8em; font-weight: bold; line-height: 1; border-radius: 0.35em; vertical-align: middle; margin-left: 0.5rem\">GPE</span>\n",
       "</mark>\n",
       " to attend a technology conference hosted by \n",
       "<mark class=\"entity\" style=\"background: #7aecec; padding: 0.45em 0.6em; margin: 0 0.25em; line-height: 1; border-radius: 0.35em;\">\n",
       "    Apple Inc.\n",
       "    <span style=\"font-size: 0.8em; font-weight: bold; line-height: 1; border-radius: 0.35em; vertical-align: middle; margin-left: 0.5rem\">ORG</span>\n",
       "</mark>\n",
       " at \n",
       "<mark class=\"entity\" style=\"background: #9cc9cc; padding: 0.45em 0.6em; margin: 0 0.25em; line-height: 1; border-radius: 0.35em;\">\n",
       "    the Moscone Center\n",
       "    <span style=\"font-size: 0.8em; font-weight: bold; line-height: 1; border-radius: 0.35em; vertical-align: middle; margin-left: 0.5rem\">FAC</span>\n",
       "</mark>\n",
       ". During her trip, she met with Dr. \n",
       "<mark class=\"entity\" style=\"background: #aa9cfc; padding: 0.45em 0.6em; margin: 0 0.25em; line-height: 1; border-radius: 0.35em;\">\n",
       "    Alan Wright\n",
       "    <span style=\"font-size: 0.8em; font-weight: bold; line-height: 1; border-radius: 0.35em; vertical-align: middle; margin-left: 0.5rem\">PERSON</span>\n",
       "</mark>\n",
       ", a renowned \n",
       "<mark class=\"entity\" style=\"background: #7aecec; padding: 0.45em 0.6em; margin: 0 0.25em; line-height: 1; border-radius: 0.35em;\">\n",
       "    AI\n",
       "    <span style=\"font-size: 0.8em; font-weight: bold; line-height: 1; border-radius: 0.35em; vertical-align: middle; margin-left: 0.5rem\">ORG</span>\n",
       "</mark>\n",
       " researcher from \n",
       "<mark class=\"entity\" style=\"background: #7aecec; padding: 0.45em 0.6em; margin: 0 0.25em; line-height: 1; border-radius: 0.35em;\">\n",
       "    Stanford University\n",
       "    <span style=\"font-size: 0.8em; font-weight: bold; line-height: 1; border-radius: 0.35em; vertical-align: middle; margin-left: 0.5rem\">ORG</span>\n",
       "</mark>\n",
       ". They discussed the latest advancements in machine learning and the upcoming project funded by \n",
       "<mark class=\"entity\" style=\"background: #7aecec; padding: 0.45em 0.6em; margin: 0 0.25em; line-height: 1; border-radius: 0.35em;\">\n",
       "    the National Science Foundation\n",
       "    <span style=\"font-size: 0.8em; font-weight: bold; line-height: 1; border-radius: 0.35em; vertical-align: middle; margin-left: 0.5rem\">ORG</span>\n",
       "</mark>\n",
       ". \n",
       "<mark class=\"entity\" style=\"background: #aa9cfc; padding: 0.45em 0.6em; margin: 0 0.25em; line-height: 1; border-radius: 0.35em;\">\n",
       "    Sarah\n",
       "    <span style=\"font-size: 0.8em; font-weight: bold; line-height: 1; border-radius: 0.35em; vertical-align: middle; margin-left: 0.5rem\">PERSON</span>\n",
       "</mark>\n",
       " also planned to visit \n",
       "<mark class=\"entity\" style=\"background: #9cc9cc; padding: 0.45em 0.6em; margin: 0 0.25em; line-height: 1; border-radius: 0.35em;\">\n",
       "    the Golden Gate Bridge\n",
       "    <span style=\"font-size: 0.8em; font-weight: bold; line-height: 1; border-radius: 0.35em; vertical-align: middle; margin-left: 0.5rem\">FAC</span>\n",
       "</mark>\n",
       " and \n",
       "<mark class=\"entity\" style=\"background: #ff9561; padding: 0.45em 0.6em; margin: 0 0.25em; line-height: 1; border-radius: 0.35em;\">\n",
       "    Alcatraz Island\n",
       "    <span style=\"font-size: 0.8em; font-weight: bold; line-height: 1; border-radius: 0.35em; vertical-align: middle; margin-left: 0.5rem\">LOC</span>\n",
       "</mark>\n",
       " before returning to her office at \n",
       "<mark class=\"entity\" style=\"background: #7aecec; padding: 0.45em 0.6em; margin: 0 0.25em; line-height: 1; border-radius: 0.35em;\">\n",
       "    Microsoft\n",
       "    <span style=\"font-size: 0.8em; font-weight: bold; line-height: 1; border-radius: 0.35em; vertical-align: middle; margin-left: 0.5rem\">ORG</span>\n",
       "</mark>\n",
       " in \n",
       "<mark class=\"entity\" style=\"background: #feca74; padding: 0.45em 0.6em; margin: 0 0.25em; line-height: 1; border-radius: 0.35em;\">\n",
       "    Redmond\n",
       "    <span style=\"font-size: 0.8em; font-weight: bold; line-height: 1; border-radius: 0.35em; vertical-align: middle; margin-left: 0.5rem\">GPE</span>\n",
       "</mark>\n",
       ", \n",
       "<mark class=\"entity\" style=\"background: #feca74; padding: 0.45em 0.6em; margin: 0 0.25em; line-height: 1; border-radius: 0.35em;\">\n",
       "    Washington\n",
       "    <span style=\"font-size: 0.8em; font-weight: bold; line-height: 1; border-radius: 0.35em; vertical-align: middle; margin-left: 0.5rem\">GPE</span>\n",
       "</mark>\n",
       ". She was particularly excited about the new partnership between \n",
       "<mark class=\"entity\" style=\"background: #7aecec; padding: 0.45em 0.6em; margin: 0 0.25em; line-height: 1; border-radius: 0.35em;\">\n",
       "    Google\n",
       "    <span style=\"font-size: 0.8em; font-weight: bold; line-height: 1; border-radius: 0.35em; vertical-align: middle; margin-left: 0.5rem\">ORG</span>\n",
       "</mark>\n",
       " and \n",
       "<mark class=\"entity\" style=\"background: #7aecec; padding: 0.45em 0.6em; margin: 0 0.25em; line-height: 1; border-radius: 0.35em;\">\n",
       "    Tesla\n",
       "    <span style=\"font-size: 0.8em; font-weight: bold; line-height: 1; border-radius: 0.35em; vertical-align: middle; margin-left: 0.5rem\">ORG</span>\n",
       "</mark>\n",
       ", which was announced \n",
       "<mark class=\"entity\" style=\"background: #bfe1d9; padding: 0.45em 0.6em; margin: 0 0.25em; line-height: 1; border-radius: 0.35em;\">\n",
       "    earlier that week\n",
       "    <span style=\"font-size: 0.8em; font-weight: bold; line-height: 1; border-radius: 0.35em; vertical-align: middle; margin-left: 0.5rem\">DATE</span>\n",
       "</mark>\n",
       " in a press release from \n",
       "<mark class=\"entity\" style=\"background: #feca74; padding: 0.45em 0.6em; margin: 0 0.25em; line-height: 1; border-radius: 0.35em;\">\n",
       "    Mountain View\n",
       "    <span style=\"font-size: 0.8em; font-weight: bold; line-height: 1; border-radius: 0.35em; vertical-align: middle; margin-left: 0.5rem\">GPE</span>\n",
       "</mark>\n",
       ", \n",
       "<mark class=\"entity\" style=\"background: #feca74; padding: 0.45em 0.6em; margin: 0 0.25em; line-height: 1; border-radius: 0.35em;\">\n",
       "    California\n",
       "    <span style=\"font-size: 0.8em; font-weight: bold; line-height: 1; border-radius: 0.35em; vertical-align: middle; margin-left: 0.5rem\">GPE</span>\n",
       "</mark>\n",
       ".<br></div></span>"
      ],
      "text/plain": [
       "<IPython.core.display.HTML object>"
      ]
     },
     "metadata": {},
     "output_type": "display_data"
    }
   ],
   "source": [
    "# Use displacy to visualize entities\n",
    "displacy.render(doc, style='ent', jupyter=True)"
   ]
  },
  {
   "cell_type": "markdown",
   "id": "153dc717",
   "metadata": {},
   "source": [
    "### ----------------------------------------------------------------------------------x------------------------------------------------------------"
   ]
  },
  {
   "cell_type": "code",
   "execution_count": null,
   "id": "48a96d73",
   "metadata": {},
   "outputs": [],
   "source": []
  }
 ],
 "metadata": {
  "kernelspec": {
   "display_name": "Python 3 (ipykernel)",
   "language": "python",
   "name": "python3"
  },
  "language_info": {
   "codemirror_mode": {
    "name": "ipython",
    "version": 3
   },
   "file_extension": ".py",
   "mimetype": "text/x-python",
   "name": "python",
   "nbconvert_exporter": "python",
   "pygments_lexer": "ipython3",
   "version": "3.11.4"
  }
 },
 "nbformat": 4,
 "nbformat_minor": 5
}
